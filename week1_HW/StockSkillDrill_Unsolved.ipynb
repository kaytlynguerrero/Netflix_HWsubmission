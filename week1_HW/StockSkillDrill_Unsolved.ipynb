{
 "cells": [
  {
   "cell_type": "code",
   "execution_count": 3,
   "metadata": {},
   "outputs": [],
   "source": [
    "# Import the 'os' and 'csv' libraries\n",
    "import os\n",
    "import csv"
   ]
  },
  {
   "cell_type": "code",
   "execution_count": 4,
   "metadata": {},
   "outputs": [],
   "source": [
    "# Set path for importing our CSV file\n",
    "yahooStock = os.path.join(\"..\", \"Resources\", \"yahoo_stock.csv\")"
   ]
  },
  {
   "cell_type": "code",
   "execution_count": 10,
   "metadata": {},
   "outputs": [
    {
     "name": "stdout",
     "output_type": "stream",
     "text": [
      "The greatest percent change of  6.055704192450474  occurred on  3/12/2020 \n",
      " the stock high was 2660.949951 \n",
      " The stock low was 2478.860107 \n",
      " The volume that day was  8829380000\n"
     ]
    }
   ],
   "source": [
    "def calculatePercentage(closingPrice, openingPrice):\n",
    "    percentChange = ((closingPrice - openingPrice)/ openingPrice)*100\n",
    "    percentChange = abs(percentChange)\n",
    "    return percentChange\n",
    "\n",
    "    # Read in the CSV file using csv.DictReader() class\n",
    "with open(yahooStock, 'r') as csvfile:\n",
    "    reader = csv.DictReader(csvfile)\n",
    "    # Create a variable to save our print row and greatest daily percent change\n",
    "    \n",
    "    #greatest percent\n",
    "    printRow = {}\n",
    "    greatestDailyPercent = 0;\n",
    "    # Iterate through each row... for row in reader \n",
    "    for row in reader:\n",
    "        # For each row, calculate the daily percent change\n",
    "        percentChange = calculatePercentage(float(row[\"Open\"]), float(row[\"Close\"]))\n",
    "        # Check if the absolute daily percent change is greater than the previous max\n",
    "        if percentChange > greatestDailyPercent:\n",
    "            # If true, store new greatest daily percent change and print row\n",
    "            greatestDailyPercent = percentChange\n",
    "            printRow = row\n",
    "    # Print out the date, stock high, stock low, volume and percent change for the day with the greatest percent change\n",
    "    print(\"The greatest percent change of \", greatestDailyPercent, \" occurred on \", printRow[\"Date\"], \"\\n the stock high was\", printRow[\"High\"],\n",
    "          \"\\n The stock low was\", printRow[\"Low\"], \"\\n The volume that day was \", printRow[\"Volume\"])"
   ]
  },
  {
   "cell_type": "code",
   "execution_count": null,
   "metadata": {},
   "outputs": [],
   "source": []
  }
 ],
 "metadata": {
  "kernelspec": {
   "display_name": "Python 3",
   "language": "python",
   "name": "python3"
  },
  "language_info": {
   "codemirror_mode": {
    "name": "ipython",
    "version": 3
   },
   "file_extension": ".py",
   "mimetype": "text/x-python",
   "name": "python",
   "nbconvert_exporter": "python",
   "pygments_lexer": "ipython3",
   "version": "3.8.8"
  }
 },
 "nbformat": 4,
 "nbformat_minor": 4
}
